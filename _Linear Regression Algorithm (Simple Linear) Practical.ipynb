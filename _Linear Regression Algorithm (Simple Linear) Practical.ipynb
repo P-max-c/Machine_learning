{
 "cells": [
  {
   "cell_type": "code",
   "execution_count": 6,
   "id": "269fc254-43ac-41bc-91d2-65cf9088e43b",
   "metadata": {},
   "outputs": [
    {
     "ename": "ModuleNotFoundError",
     "evalue": "No module named 'pandas'",
     "output_type": "error",
     "traceback": [
      "\u001b[31m---------------------------------------------------------------------------\u001b[39m",
      "\u001b[31mModuleNotFoundError\u001b[39m                       Traceback (most recent call last)",
      "\u001b[36mCell\u001b[39m\u001b[36m \u001b[39m\u001b[32mIn[6]\u001b[39m\u001b[32m, line 1\u001b[39m\n\u001b[32m----> \u001b[39m\u001b[32m1\u001b[39m \u001b[38;5;28;01mimport\u001b[39;00m\u001b[38;5;250m \u001b[39m\u001b[34;01mpandas\u001b[39;00m\u001b[38;5;250m \u001b[39m\u001b[38;5;28;01mas\u001b[39;00m\u001b[38;5;250m \u001b[39m\u001b[34;01mpd\u001b[39;00m\n\u001b[32m      2\u001b[39m \u001b[38;5;28;01mimport\u001b[39;00m\u001b[38;5;250m \u001b[39m\u001b[34;01mseaborn\u001b[39;00m\u001b[38;5;250m \u001b[39m\u001b[38;5;28;01mas\u001b[39;00m\u001b[38;5;250m \u001b[39m\u001b[34;01msns\u001b[39;00m\n\u001b[32m      3\u001b[39m \u001b[38;5;28;01mimport\u001b[39;00m\u001b[38;5;250m \u001b[39m\u001b[34;01mmatplotlib\u001b[39;00m\u001b[34;01m.\u001b[39;00m\u001b[34;01mpyplot\u001b[39;00m\u001b[38;5;250m \u001b[39m\u001b[38;5;28;01mas\u001b[39;00m\u001b[38;5;250m \u001b[39m\u001b[34;01mplt\u001b[39;00m\n",
      "\u001b[31mModuleNotFoundError\u001b[39m: No module named 'pandas'"
     ]
    }
   ],
   "source": [
    "import pandas as pd\n",
    "import seaborn as sns\n",
    "import matplotlib.pyplot as plt\n",
    "from sklearn.model_selection import train_test_split"
   ]
  },
  {
   "cell_type": "code",
   "execution_count": null,
   "id": "02eb95e3-933e-4ed5-ac25-62b7b799393a",
   "metadata": {},
   "outputs": [
    {
     "data": {
      "text/markdown": [
       "[grok](https://grok.com/share/bGVnYWN5_5ae29c65-3c35-4dd2-a201-f8289c17d6c7)"
      ],
      "text/plain": [
       "<IPython.core.display.Markdown object>"
      ]
     },
     "execution_count": 19,
     "metadata": {},
     "output_type": "execute_result"
    }
   ],
   "source": [
    "from IPython.display import Markdown\n",
    "\n",
    "Markdown('[grok](https://grok.com/share/bGVnYWN5_5ae29c65-3c35-4dd2-a201-f8289c17d6c7)')\n"
   ]
  },
  {
   "cell_type": "code",
   "execution_count": null,
   "id": "04226fba-f29c-4174-ae33-1eda33782681",
   "metadata": {},
   "outputs": [
    {
     "data": {
      "text/html": [
       "<div>\n",
       "<style scoped>\n",
       "    .dataframe tbody tr th:only-of-type {\n",
       "        vertical-align: middle;\n",
       "    }\n",
       "\n",
       "    .dataframe tbody tr th {\n",
       "        vertical-align: top;\n",
       "    }\n",
       "\n",
       "    .dataframe thead th {\n",
       "        text-align: right;\n",
       "    }\n",
       "</style>\n",
       "<table border=\"1\" class=\"dataframe\">\n",
       "  <thead>\n",
       "    <tr style=\"text-align: right;\">\n",
       "      <th></th>\n",
       "      <th>cgpa</th>\n",
       "      <th>package</th>\n",
       "    </tr>\n",
       "  </thead>\n",
       "  <tbody>\n",
       "    <tr>\n",
       "      <th>0</th>\n",
       "      <td>6.89</td>\n",
       "      <td>3.26</td>\n",
       "    </tr>\n",
       "    <tr>\n",
       "      <th>1</th>\n",
       "      <td>5.12</td>\n",
       "      <td>1.98</td>\n",
       "    </tr>\n",
       "    <tr>\n",
       "      <th>2</th>\n",
       "      <td>7.82</td>\n",
       "      <td>3.25</td>\n",
       "    </tr>\n",
       "  </tbody>\n",
       "</table>\n",
       "</div>"
      ],
      "text/plain": [
       "   cgpa  package\n",
       "0  6.89     3.26\n",
       "1  5.12     1.98\n",
       "2  7.82     3.25"
      ]
     },
     "execution_count": 39,
     "metadata": {},
     "output_type": "execute_result"
    }
   ],
   "source": [
    "dataset = pd.read_csv(r\"C:\\Users\\hegde\\Downloads\\placement.csv\")\n",
    "dataset.head(3)"
   ]
  },
  {
   "cell_type": "code",
   "execution_count": null,
   "id": "2a04b5db-6e4e-438e-9ad1-a99a2826b8e9",
   "metadata": {},
   "outputs": [
    {
     "data": {
      "text/plain": [
       "1"
      ]
     },
     "execution_count": 43,
     "metadata": {},
     "output_type": "execute_result"
    }
   ],
   "source": [
    "x=dataset[\"cgpa\"]\n",
    "x.ndim"
   ]
  },
  {
   "cell_type": "code",
   "execution_count": null,
   "id": "d0eb36df-6f64-41f9-8698-af1b8c9bf51c",
   "metadata": {},
   "outputs": [
    {
     "data": {
      "text/plain": [
       "cgpa       0\n",
       "package    0\n",
       "dtype: int64"
      ]
     },
     "execution_count": 12,
     "metadata": {},
     "output_type": "execute_result"
    }
   ],
   "source": [
    "dataset.isnull().sum()"
   ]
  },
  {
   "cell_type": "code",
   "execution_count": null,
   "id": "c01861fa-35be-4ecf-a27c-678cf5b47106",
   "metadata": {},
   "outputs": [
    {
     "data": {
      "text/html": [
       "<div>\n",
       "<style scoped>\n",
       "    .dataframe tbody tr th:only-of-type {\n",
       "        vertical-align: middle;\n",
       "    }\n",
       "\n",
       "    .dataframe tbody tr th {\n",
       "        vertical-align: top;\n",
       "    }\n",
       "\n",
       "    .dataframe thead th {\n",
       "        text-align: right;\n",
       "    }\n",
       "</style>\n",
       "<table border=\"1\" class=\"dataframe\">\n",
       "  <thead>\n",
       "    <tr style=\"text-align: right;\">\n",
       "      <th></th>\n",
       "      <th>cgpa</th>\n",
       "      <th>package</th>\n",
       "    </tr>\n",
       "  </thead>\n",
       "  <tbody>\n",
       "    <tr>\n",
       "      <th>count</th>\n",
       "      <td>200.000000</td>\n",
       "      <td>200.000000</td>\n",
       "    </tr>\n",
       "    <tr>\n",
       "      <th>mean</th>\n",
       "      <td>6.990500</td>\n",
       "      <td>2.996050</td>\n",
       "    </tr>\n",
       "    <tr>\n",
       "      <th>std</th>\n",
       "      <td>1.069409</td>\n",
       "      <td>0.691644</td>\n",
       "    </tr>\n",
       "    <tr>\n",
       "      <th>min</th>\n",
       "      <td>4.260000</td>\n",
       "      <td>1.370000</td>\n",
       "    </tr>\n",
       "    <tr>\n",
       "      <th>25%</th>\n",
       "      <td>6.190000</td>\n",
       "      <td>2.487500</td>\n",
       "    </tr>\n",
       "    <tr>\n",
       "      <th>50%</th>\n",
       "      <td>6.965000</td>\n",
       "      <td>2.995000</td>\n",
       "    </tr>\n",
       "    <tr>\n",
       "      <th>75%</th>\n",
       "      <td>7.737500</td>\n",
       "      <td>3.492500</td>\n",
       "    </tr>\n",
       "    <tr>\n",
       "      <th>max</th>\n",
       "      <td>9.580000</td>\n",
       "      <td>4.620000</td>\n",
       "    </tr>\n",
       "  </tbody>\n",
       "</table>\n",
       "</div>"
      ],
      "text/plain": [
       "             cgpa     package\n",
       "count  200.000000  200.000000\n",
       "mean     6.990500    2.996050\n",
       "std      1.069409    0.691644\n",
       "min      4.260000    1.370000\n",
       "25%      6.190000    2.487500\n",
       "50%      6.965000    2.995000\n",
       "75%      7.737500    3.492500\n",
       "max      9.580000    4.620000"
      ]
     },
     "execution_count": 52,
     "metadata": {},
     "output_type": "execute_result"
    }
   ],
   "source": [
    "dataset.describe()"
   ]
  },
  {
   "cell_type": "code",
   "execution_count": null,
   "id": "6a3246de-e9fa-410a-bbef-d2adccfb79be",
   "metadata": {},
   "outputs": [
    {
     "data": {
      "image/png": "[encoded data removed]",
      "text/plain": [
       "<Figure size 640x480 with 1 Axes>"
      ]
     },
     "metadata": {},
     "output_type": "display_data"
    }
   ],
   "source": [
    "sns.boxplot(x=\"package\",data=dataset)\n",
    "plt.show()"
   ]
  },
  {
   "cell_type": "code",
   "execution_count": null,
   "id": "f19ec90a-a6d5-4759-b177-2d7757330067",
   "metadata": {},
   "outputs": [
    {
     "data": {
      "text/plain": [
       "(200, 2)"
      ]
     },
     "execution_count": 58,
     "metadata": {},
     "output_type": "execute_result"
    }
   ],
   "source": [
    "dataset.shape"
   ]
  },
  {
   "cell_type": "code",
   "execution_count": null,
   "id": "70b379a1-b25d-48cf-a8f7-d2963e69b100",
   "metadata": {},
   "outputs": [
    {
     "data": {
      "text/plain": [
       "(200, 2)"
      ]
     },
     "execution_count": 76,
     "metadata": {},
     "output_type": "execute_result"
    }
   ],
   "source": [
    "q1=dataset[\"cgpa\"].quantile(0.25)\n",
    "q3=dataset[\"cgpa\"].quantile(0.75)\n",
    "IQR=q3-q1\n",
    "mr=q1-(1.5*IQR)\n",
    "mar=q3+(1.5*IQR)\n",
    "mr,mar\n",
    "nd=dataset[dataset[\"cgpa\"]<=mar]\n",
    "nd.shape"
   ]
  },
  {
   "cell_type": "code",
   "execution_count": null,
   "id": "ce69a3cf-d6da-4190-b8ee-dbb6287aeb82",
   "metadata": {},
   "outputs": [
    {
     "data": {
      "image/png": "[encoded data removed]",
      "text/plain": [
       "<Figure size 640x480 with 1 Axes>"
      ]
     },
     "metadata": {},
     "output_type": "display_data"
    }
   ],
   "source": [
    "sns.scatterplot(x=\"cgpa\",y=\"package\",data=dataset)\n",
    "plt.show()"
   ]
  },
  {
   "cell_type": "code",
   "execution_count": null,
   "id": "4e15e5fc-c017-4cdd-aeb8-bb1e237e7583",
   "metadata": {},
   "outputs": [
    {
     "data": {
      "text/plain": [
       "(200, 2)"
      ]
     },
     "execution_count": 36,
     "metadata": {},
     "output_type": "execute_result"
    }
   ],
   "source": [
    "dataset.shape"
   ]
  },
  {
   "cell_type": "code",
   "execution_count": null,
   "id": "9cf014e1-24b3-4e7e-bd3f-45919bce0a04",
   "metadata": {},
   "outputs": [],
   "source": []
  },
  {
   "cell_type": "code",
   "execution_count": null,
   "id": "e92f3fa1-e9f9-4421-a8bd-9efc2b5a7b99",
   "metadata": {},
   "outputs": [
    {
     "data": {
      "text/plain": [
       "(200, 2)"
      ]
     },
     "execution_count": 48,
     "metadata": {},
     "output_type": "execute_result"
    }
   ],
   "source": [
    "dataset.shape"
   ]
  },
  {
   "cell_type": "code",
   "execution_count": null,
   "id": "6bf714f3-9526-476d-8996-fe588d8c0ff9",
   "metadata": {},
   "outputs": [
    {
     "name": "stdout",
     "output_type": "stream",
     "text": [
      "cgpa       0\n",
      "package    0\n",
      "Name: Outlier Count, dtype: int64\n"
     ]
    }
   ],
   "source": []
  },
  {
   "cell_type": "code",
   "execution_count": null,
   "id": "4969b5c2-d224-490c-b177-3fedce85a3c9",
   "metadata": {},
   "outputs": [],
   "source": [
    "x=dataset[[\"cgpa\"]]\n",
    "y=dataset[\"package\"]"
   ]
  },
  {
   "cell_type": "code",
   "execution_count": null,
   "id": "f0a18b92-6cd6-42a0-a97d-8033e6f26ac8",
   "metadata": {},
   "outputs": [
    {
     "data": {
      "image/png": "[encoded data removed]",
      "text/plain": [
       "<Figure size 640x480 with 1 Axes>"
      ]
     },
     "metadata": {},
     "output_type": "display_data"
    }
   ],
   "source": [
    "sns.scatterplot(x=\"cgpa\",y=\"package\",data=dataset)\n",
    "plt.show()"
   ]
  },
  {
   "cell_type": "code",
   "execution_count": null,
   "id": "d0b08b4b-37b9-4417-84bf-08b080d8dae4",
   "metadata": {},
   "outputs": [],
   "source": [
    "x_train,x_test,y_train,y_test=train_test_split(x,y,test_size=0.06,random_state=42)"
   ]
  },
  {
   "cell_type": "code",
   "execution_count": null,
   "id": "a572ec52-30b8-4aa5-8935-bcf8d9118841",
   "metadata": {},
   "outputs": [],
   "source": [
    "from sklearn.linear_model import LinearRegression"
   ]
  },
  {
   "cell_type": "code",
   "execution_count": null,
   "id": "20b9dbdc-77bb-418b-9aa0-652fb85d70ff",
   "metadata": {},
   "outputs": [
    {
     "data": {
      "text/html": [
       "<style>#sk-container-id-1 {\n",
       "  /* Definition of color scheme common for light and dark mode */\n",
       "  --sklearn-color-text: black;\n",
       "  --sklearn-color-line: gray;\n",
       "  /* Definition of color scheme for unfitted estimators */\n",
       "  --sklearn-color-unfitted-level-0: #fff5e6;\n",
       "  --sklearn-color-unfitted-level-1: #f6e4d2;\n",
       "  --sklearn-color-unfitted-level-2: #ffe0b3;\n",
       "  --sklearn-color-unfitted-level-3: chocolate;\n",
       "  /* Definition of color scheme for fitted estimators */\n",
       "  --sklearn-color-fitted-level-0: #f0f8ff;\n",
       "  --sklearn-color-fitted-level-1: #d4ebff;\n",
       "  --sklearn-color-fitted-level-2: #b3dbfd;\n",
       "  --sklearn-color-fitted-level-3: cornflowerblue;\n",
       "\n",
       "  /* Specific color for light theme */\n",
       "  --sklearn-color-text-on-default-background: var(--sg-text-color, var(--theme-code-foreground, var(--jp-content-font-color1, black)));\n",
       "  --sklearn-color-background: var(--sg-background-color, var(--theme-background, var(--jp-layout-color0, white)));\n",
       "  --sklearn-color-border-box: var(--sg-text-color, var(--theme-code-foreground, var(--jp-content-font-color1, black)));\n",
       "  --sklearn-color-icon: #696969;\n",
       "\n",
       "  @media (prefers-color-scheme: dark) {\n",
       "    /* Redefinition of color scheme for dark theme */\n",
       "    --sklearn-color-text-on-default-background: var(--sg-text-color, var(--theme-code-foreground, var(--jp-content-font-color1, white)));\n",
       "    --sklearn-color-background: var(--sg-background-color, var(--theme-background, var(--jp-layout-color0, #111)));\n",
       "    --sklearn-color-border-box: var(--sg-text-color, var(--theme-code-foreground, var(--jp-content-font-color1, white)));\n",
       "    --sklearn-color-icon: #878787;\n",
       "  }\n",
       "}\n",
       "\n",
       "#sk-container-id-1 {\n",
       "  color: var(--sklearn-color-text);\n",
       "}\n",
       "\n",
       "#sk-container-id-1 pre {\n",
       "  padding: 0;\n",
       "}\n",
       "\n",
       "#sk-container-id-1 input.sk-hidden--visually {\n",
       "  border: 0;\n",
       "  clip: rect(1px 1px 1px 1px);\n",
       "  clip: rect(1px, 1px, 1px, 1px);\n",
       "  height: 1px;\n",
       "  margin: -1px;\n",
       "  overflow: hidden;\n",
       "  padding: 0;\n",
       "  position: absolute;\n",
       "  width: 1px;\n",
       "}\n",
       "\n",
       "#sk-container-id-1 div.sk-dashed-wrapped {\n",
       "  border: 1px dashed var(--sklearn-color-line);\n",
       "  margin: 0 0.4em 0.5em 0.4em;\n",
       "  box-sizing: border-box;\n",
       "  padding-bottom: 0.4em;\n",
       "  background-color: var(--sklearn-color-background);\n",
       "}\n",
       "\n",
       "#sk-container-id-1 div.sk-container {\n",
       "  /* jupyter's `normalize.less` sets `[hidden] { display: none; }`\n",
       "     but bootstrap.min.css set `[hidden] { display: none !important; }`\n",
       "     so we also need the `!important` here to be able to override the\n",
       "     default hidden behavior on the sphinx rendered scikit-learn.org.\n",
       "     See: https://github.com/scikit-learn/scikit-learn/issues/21755 */\n",
       "  display: inline-block !important;\n",
       "  position: relative;\n",
       "}\n",
       "\n",
       "#sk-container-id-1 div.sk-text-repr-fallback {\n",
       "  display: none;\n",
       "}\n",
       "\n",
       "div.sk-parallel-item,\n",
       "div.sk-serial,\n",
       "div.sk-item {\n",
       "  /* draw centered vertical line to link estimators */\n",
       "  background-image: linear-gradient(var(--sklearn-color-text-on-default-background), var(--sklearn-color-text-on-default-background));\n",
       "  background-size: 2px 100%;\n",
       "  background-repeat: no-repeat;\n",
       "  background-position: center center;\n",
       "}\n",
       "\n",
       "/* Parallel-specific style estimator block */\n",
       "\n",
       "#sk-container-id-1 div.sk-parallel-item::after {\n",
       "  content: \"\";\n",
       "  width: 100%;\n",
       "  border-bottom: 2px solid var(--sklearn-color-text-on-default-background);\n",
       "  flex-grow: 1;\n",
       "}\n",
       "\n",
       "#sk-container-id-1 div.sk-parallel {\n",
       "  display: flex;\n",
       "  align-items: stretch;\n",
       "  justify-content: center;\n",
       "  background-color: var(--sklearn-color-background);\n",
       "  position: relative;\n",
       "}\n",
       "\n",
       "#sk-container-id-1 div.sk-parallel-item {\n",
       "  display: flex;\n",
       "  flex-direction: column;\n",
       "}\n",
       "\n",
       "#sk-container-id-1 div.sk-parallel-item:first-child::after {\n",
       "  align-self: flex-end;\n",
       "  width: 50%;\n",
       "}\n",
       "\n",
       "#sk-container-id-1 div.sk-parallel-item:last-child::after {\n",
       "  align-self: flex-start;\n",
       "  width: 50%;\n",
       "}\n",
       "\n",
       "#sk-container-id-1 div.sk-parallel-item:only-child::after {\n",
       "  width: 0;\n",
       "}\n",
       "\n",
       "/* Serial-specific style estimator block */\n",
       "\n",
       "#sk-container-id-1 div.sk-serial {\n",
       "  display: flex;\n",
       "  flex-direction: column;\n",
       "  align-items: center;\n",
       "  background-color: var(--sklearn-color-background);\n",
       "  padding-right: 1em;\n",
       "  padding-left: 1em;\n",
       "}\n",
       "\n",
       "\n",
       "/* Toggleable style: style used for estimator/Pipeline/ColumnTransformer box that is\n",
       "clickable and can be expanded/collapsed.\n",
       "- Pipeline and ColumnTransformer use this feature and define the default style\n",
       "- Estimators will overwrite some part of the style using the `sk-estimator` class\n",
       "*/\n",
       "\n",
       "/* Pipeline and ColumnTransformer style (default) */\n",
       "\n",
       "#sk-container-id-1 div.sk-toggleable {\n",
       "  /* Default theme specific background. It is overwritten whether we have a\n",
       "  specific estimator or a Pipeline/ColumnTransformer */\n",
       "  background-color: var(--sklearn-color-background);\n",
       "}\n",
       "\n",
       "/* Toggleable label */\n",
       "#sk-container-id-1 label.sk-toggleable__label {\n",
       "  cursor: pointer;\n",
       "  display: block;\n",
       "  width: 100%;\n",
       "  margin-bottom: 0;\n",
       "  padding: 0.5em;\n",
       "  box-sizing: border-box;\n",
       "  text-align: center;\n",
       "}\n",
       "\n",
       "#sk-container-id-1 label.sk-toggleable__label-arrow:before {\n",
       "  /* Arrow on the left of the label */\n",
       "  content: \"▸\";\n",
       "  float: left;\n",
       "  margin-right: 0.25em;\n",
       "  color: var(--sklearn-color-icon);\n",
       "}\n",
       "\n",
       "#sk-container-id-1 label.sk-toggleable__label-arrow:hover:before {\n",
       "  color: var(--sklearn-color-text);\n",
       "}\n",
       "\n",
       "/* Toggleable content - dropdown */\n",
       "\n",
       "#sk-container-id-1 div.sk-toggleable__content {\n",
       "  max-height: 0;\n",
       "  max-width: 0;\n",
       "  overflow: hidden;\n",
       "  text-align: left;\n",
       "  /* unfitted */\n",
       "  background-color: var(--sklearn-color-unfitted-level-0);\n",
       "}\n",
       "\n",
       "#sk-container-id-1 div.sk-toggleable__content.fitted {\n",
       "  /* fitted */\n",
       "  background-color: var(--sklearn-color-fitted-level-0);\n",
       "}\n",
       "\n",
       "#sk-container-id-1 div.sk-toggleable__content pre {\n",
       "  margin: 0.2em;\n",
       "  border-radius: 0.25em;\n",
       "  color: var(--sklearn-color-text);\n",
       "  /* unfitted */\n",
       "  background-color: var(--sklearn-color-unfitted-level-0);\n",
       "}\n",
       "\n",
       "#sk-container-id-1 div.sk-toggleable__content.fitted pre {\n",
       "  /* unfitted */\n",
       "  background-color: var(--sklearn-color-fitted-level-0);\n",
       "}\n",
       "\n",
       "#sk-container-id-1 input.sk-toggleable__control:checked~div.sk-toggleable__content {\n",
       "  /* Expand drop-down */\n",
       "  max-height: 200px;\n",
       "  max-width: 100%;\n",
       "  overflow: auto;\n",
       "}\n",
       "\n",
       "#sk-container-id-1 input.sk-toggleable__control:checked~label.sk-toggleable__label-arrow:before {\n",
       "  content: \"▾\";\n",
       "}\n",
       "\n",
       "/* Pipeline/ColumnTransformer-specific style */\n",
       "\n",
       "#sk-container-id-1 div.sk-label input.sk-toggleable__control:checked~label.sk-toggleable__label {\n",
       "  color: var(--sklearn-color-text);\n",
       "  background-color: var(--sklearn-color-unfitted-level-2);\n",
       "}\n",
       "\n",
       "#sk-container-id-1 div.sk-label.fitted input.sk-toggleable__control:checked~label.sk-toggleable__label {\n",
       "  background-color: var(--sklearn-color-fitted-level-2);\n",
       "}\n",
       "\n",
       "/* Estimator-specific style */\n",
       "\n",
       "/* Colorize estimator box */\n",
       "#sk-container-id-1 div.sk-estimator input.sk-toggleable__control:checked~label.sk-toggleable__label {\n",
       "  /* unfitted */\n",
       "  background-color: var(--sklearn-color-unfitted-level-2);\n",
       "}\n",
       "\n",
       "#sk-container-id-1 div.sk-estimator.fitted input.sk-toggleable__control:checked~label.sk-toggleable__label {\n",
       "  /* fitted */\n",
       "  background-color: var(--sklearn-color-fitted-level-2);\n",
       "}\n",
       "\n",
       "#sk-container-id-1 div.sk-label label.sk-toggleable__label,\n",
       "#sk-container-id-1 div.sk-label label {\n",
       "  /* The background is the default theme color */\n",
       "  color: var(--sklearn-color-text-on-default-background);\n",
       "}\n",
       "\n",
       "/* On hover, darken the color of the background */\n",
       "#sk-container-id-1 div.sk-label:hover label.sk-toggleable__label {\n",
       "  color: var(--sklearn-color-text);\n",
       "  background-color: var(--sklearn-color-unfitted-level-2);\n",
       "}\n",
       "\n",
       "/* Label box, darken color on hover, fitted */\n",
       "#sk-container-id-1 div.sk-label.fitted:hover label.sk-toggleable__label.fitted {\n",
       "  color: var(--sklearn-color-text);\n",
       "  background-color: var(--sklearn-color-fitted-level-2);\n",
       "}\n",
       "\n",
       "/* Estimator label */\n",
       "\n",
       "#sk-container-id-1 div.sk-label label {\n",
       "  font-family: monospace;\n",
       "  font-weight: bold;\n",
       "  display: inline-block;\n",
       "  line-height: 1.2em;\n",
       "}\n",
       "\n",
       "#sk-container-id-1 div.sk-label-container {\n",
       "  text-align: center;\n",
       "}\n",
       "\n",
       "/* Estimator-specific */\n",
       "#sk-container-id-1 div.sk-estimator {\n",
       "  font-family: monospace;\n",
       "  border: 1px dotted var(--sklearn-color-border-box);\n",
       "  border-radius: 0.25em;\n",
       "  box-sizing: border-box;\n",
       "  margin-bottom: 0.5em;\n",
       "  /* unfitted */\n",
       "  background-color: var(--sklearn-color-unfitted-level-0);\n",
       "}\n",
       "\n",
       "#sk-container-id-1 div.sk-estimator.fitted {\n",
       "  /* fitted */\n",
       "  background-color: var(--sklearn-color-fitted-level-0);\n",
       "}\n",
       "\n",
       "/* on hover */\n",
       "#sk-container-id-1 div.sk-estimator:hover {\n",
       "  /* unfitted */\n",
       "  background-color: var(--sklearn-color-unfitted-level-2);\n",
       "}\n",
       "\n",
       "#sk-container-id-1 div.sk-estimator.fitted:hover {\n",
       "  /* fitted */\n",
       "  background-color: var(--sklearn-color-fitted-level-2);\n",
       "}\n",
       "\n",
       "/* Specification for estimator info (e.g. \"i\" and \"?\") */\n",
       "\n",
       "/* Common style for \"i\" and \"?\" */\n",
       "\n",
       ".sk-estimator-doc-link,\n",
       "a:link.sk-estimator-doc-link,\n",
       "a:visited.sk-estimator-doc-link {\n",
       "  float: right;\n",
       "  font-size: smaller;\n",
       "  line-height: 1em;\n",
       "  font-family: monospace;\n",
       "  background-color: var(--sklearn-color-background);\n",
       "  border-radius: 1em;\n",
       "  height: 1em;\n",
       "  width: 1em;\n",
       "  text-decoration: none !important;\n",
       "  margin-left: 1ex;\n",
       "  /* unfitted */\n",
       "  border: var(--sklearn-color-unfitted-level-1) 1pt solid;\n",
       "  color: var(--sklearn-color-unfitted-level-1);\n",
       "}\n",
       "\n",
       ".sk-estimator-doc-link.fitted,\n",
       "a:link.sk-estimator-doc-link.fitted,\n",
       "a:visited.sk-estimator-doc-link.fitted {\n",
       "  /* fitted */\n",
       "  border: var(--sklearn-color-fitted-level-1) 1pt solid;\n",
       "  color: var(--sklearn-color-fitted-level-1);\n",
       "}\n",
       "\n",
       "/* On hover */\n",
       "div.sk-estimator:hover .sk-estimator-doc-link:hover,\n",
       ".sk-estimator-doc-link:hover,\n",
       "div.sk-label-container:hover .sk-estimator-doc-link:hover,\n",
       ".sk-estimator-doc-link:hover {\n",
       "  /* unfitted */\n",
       "  background-color: var(--sklearn-color-unfitted-level-3);\n",
       "  color: var(--sklearn-color-background);\n",
       "  text-decoration: none;\n",
       "}\n",
       "\n",
       "div.sk-estimator.fitted:hover .sk-estimator-doc-link.fitted:hover,\n",
       ".sk-estimator-doc-link.fitted:hover,\n",
       "div.sk-label-container:hover .sk-estimator-doc-link.fitted:hover,\n",
       ".sk-estimator-doc-link.fitted:hover {\n",
       "  /* fitted */\n",
       "  background-color: var(--sklearn-color-fitted-level-3);\n",
       "  color: var(--sklearn-color-background);\n",
       "  text-decoration: none;\n",
       "}\n",
       "\n",
       "/* Span, style for the box shown on hovering the info icon */\n",
       ".sk-estimator-doc-link span {\n",
       "  display: none;\n",
       "  z-index: 9999;\n",
       "  position: relative;\n",
       "  font-weight: normal;\n",
       "  right: .2ex;\n",
       "  padding: .5ex;\n",
       "  margin: .5ex;\n",
       "  width: min-content;\n",
       "  min-width: 20ex;\n",
       "  max-width: 50ex;\n",
       "  color: var(--sklearn-color-text);\n",
       "  box-shadow: 2pt 2pt 4pt #999;\n",
       "  /* unfitted */\n",
       "  background: var(--sklearn-color-unfitted-level-0);\n",
       "  border: .5pt solid var(--sklearn-color-unfitted-level-3);\n",
       "}\n",
       "\n",
       ".sk-estimator-doc-link.fitted span {\n",
       "  /* fitted */\n",
       "  background: var(--sklearn-color-fitted-level-0);\n",
       "  border: var(--sklearn-color-fitted-level-3);\n",
       "}\n",
       "\n",
       ".sk-estimator-doc-link:hover span {\n",
       "  display: block;\n",
       "}\n",
       "\n",
       "/* \"?\"-specific style due to the `<a>` HTML tag */\n",
       "\n",
       "#sk-container-id-1 a.estimator_doc_link {\n",
       "  float: right;\n",
       "  font-size: 1rem;\n",
       "  line-height: 1em;\n",
       "  font-family: monospace;\n",
       "  background-color: var(--sklearn-color-background);\n",
       "  border-radius: 1rem;\n",
       "  height: 1rem;\n",
       "  width: 1rem;\n",
       "  text-decoration: none;\n",
       "  /* unfitted */\n",
       "  color: var(--sklearn-color-unfitted-level-1);\n",
       "  border: var(--sklearn-color-unfitted-level-1) 1pt solid;\n",
       "}\n",
       "\n",
       "#sk-container-id-1 a.estimator_doc_link.fitted {\n",
       "  /* fitted */\n",
       "  border: var(--sklearn-color-fitted-level-1) 1pt solid;\n",
       "  color: var(--sklearn-color-fitted-level-1);\n",
       "}\n",
       "\n",
       "/* On hover */\n",
       "#sk-container-id-1 a.estimator_doc_link:hover {\n",
       "  /* unfitted */\n",
       "  background-color: var(--sklearn-color-unfitted-level-3);\n",
       "  color: var(--sklearn-color-background);\n",
       "  text-decoration: none;\n",
       "}\n",
       "\n",
       "#sk-container-id-1 a.estimator_doc_link.fitted:hover {\n",
       "  /* fitted */\n",
       "  background-color: var(--sklearn-color-fitted-level-3);\n",
       "}\n",
       "</style><div id=\"sk-container-id-1\" class=\"sk-top-container\"><div class=\"sk-text-repr-fallback\"><pre>LinearRegression()</pre><b>In a Jupyter environment, please rerun this cell to show the HTML representation or trust the notebook. <br />On GitHub, the HTML representation is unable to render, please try loading this page with nbviewer.org.</b></div><div class=\"sk-container\" hidden><div class=\"sk-item\"><div class=\"sk-estimator fitted sk-toggleable\"><input class=\"sk-toggleable__control sk-hidden--visually\" id=\"sk-estimator-id-1\" type=\"checkbox\" checked><label for=\"sk-estimator-id-1\" class=\"sk-toggleable__label fitted sk-toggleable__label-arrow fitted\">&nbsp;&nbsp;LinearRegression<a class=\"sk-estimator-doc-link fitted\" rel=\"noreferrer\" target=\"_blank\" href=\"https://scikit-learn.org/1.5/modules/generated/sklearn.linear_model.LinearRegression.html\">?<span>Documentation for LinearRegression</span></a><span class=\"sk-estimator-doc-link fitted\">i<span>Fitted</span></span></label><div class=\"sk-toggleable__content fitted\"><pre>LinearRegression()</pre></div> </div></div></div></div>"
      ],
      "text/plain": [
       "LinearRegression()"
      ]
     },
     "execution_count": 29,
     "metadata": {},
     "output_type": "execute_result"
    }
   ],
   "source": [
    "lr=LinearRegression()\n",
    "lr.fit(x_train,y_train)"
   ]
  },
  {
   "cell_type": "code",
   "execution_count": null,
   "id": "c08acac0-5d1d-4e79-9dac-f343f3199d69",
   "metadata": {},
   "outputs": [
    {
     "data": {
      "text/plain": [
       "array([0.56728537])"
      ]
     },
     "execution_count": 122,
     "metadata": {},
     "output_type": "execute_result"
    }
   ],
   "source": [
    "lr.coef_"
   ]
  },
  {
   "cell_type": "code",
   "execution_count": null,
   "id": "5806a81c-d46d-459b-bc04-cb35fd681352",
   "metadata": {},
   "outputs": [
    {
     "data": {
      "text/plain": [
       "-0.9759902354422221"
      ]
     },
     "execution_count": 124,
     "metadata": {},
     "output_type": "execute_result"
    }
   ],
   "source": [
    "lr.intercept_"
   ]
  },
  {
   "cell_type": "code",
   "execution_count": null,
   "id": "4c595347-b254-42c8-8b64-f352711967b3",
   "metadata": {},
   "outputs": [],
   "source": []
  },
  {
   "cell_type": "code",
   "execution_count": null,
   "id": "3dc8203d-cc65-41b7-b1c4-36aa7a09b020",
   "metadata": {},
   "outputs": [
    {
     "data": {
      "text/plain": [
       "79.02860005537953"
      ]
     },
     "execution_count": 31,
     "metadata": {},
     "output_type": "execute_result"
    }
   ],
   "source": [
    "lr.score(x_test,y_test)*100"
   ]
  },
  {
   "cell_type": "code",
   "execution_count": null,
   "id": "53643a54-f76a-411b-b46d-2af15a0cedd6",
   "metadata": {},
   "outputs": [
    {
     "name": "stderr",
     "output_type": "stream",
     "text": [
      "C:\\Users\\hegde\\AppData\\Local\\Programs\\Python\\Python310\\lib\\site-packages\\sklearn\\base.py:493: UserWarning: X does not have valid feature names, but LinearRegression was fitted with feature names\n",
      "  warnings.warn(\n"
     ]
    },
    {
     "data": {
      "text/plain": [
       "array([2.9367714])"
      ]
     },
     "execution_count": 41,
     "metadata": {},
     "output_type": "execute_result"
    }
   ],
   "source": [
    "lr.predict([[6.89]])"
   ]
  },
  {
   "cell_type": "code",
   "execution_count": null,
   "id": "0d070595-c255-424e-811e-95d1ad7e72c6",
   "metadata": {},
   "outputs": [],
   "source": [
    "yp=lr.predict(x)"
   ]
  },
  {
   "cell_type": "code",
   "execution_count": null,
   "id": "1c7d391c-ec3f-4b63-8490-469b79d0e165",
   "metadata": {},
   "outputs": [
    {
     "data": {
      "image/png": "[encoded data removed]",
      "text/plain": [
       "<Figure size 640x480 with 1 Axes>"
      ]
     },
     "metadata": {},
     "output_type": "display_data"
    }
   ],
   "source": [
    "yp=lr.predict(x)\n",
    "sns.scatterplot(x=\"cgpa\",y=\"package\",data=dataset)\n",
    "plt.plot(dataset[\"cgpa\"],yp)\n",
    "plt.show()"
   ]
  },
  {
   "cell_type": "code",
   "execution_count": null,
   "id": "ee4a9f74-9668-4b50-8bc7-d80676f20081",
   "metadata": {},
   "outputs": [
    {
     "name": "stdout",
     "output_type": "stream",
     "text": [
      "Test Size: 0.10, Test R² Score: 73.62%, CV R² Score: 76.77%\n",
      "Test Size: 0.11, Test R² Score: 72.40%, CV R² Score: 77.05%\n",
      "Test Size: 0.12, Test R² Score: 72.51%, CV R² Score: 76.95%\n",
      "Test Size: 0.13, Test R² Score: 73.78%, CV R² Score: 76.91%\n",
      "Test Size: 0.14, Test R² Score: 77.77%, CV R² Score: 76.81%\n",
      "Test Size: 0.15, Test R² Score: 78.04%, CV R² Score: 76.57%\n",
      "Test Size: 0.16, Test R² Score: 78.24%, CV R² Score: 76.38%\n",
      "Test Size: 0.17, Test R² Score: 77.42%, CV R² Score: 76.78%\n",
      "Test Size: 0.18, Test R² Score: 77.18%, CV R² Score: 76.75%\n",
      "Test Size: 0.19, Test R² Score: 77.29%, CV R² Score: 76.64%\n",
      "Test Size: 0.20, Test R² Score: 77.31%, CV R² Score: 76.69%\n",
      "Test Size: 0.21, Test R² Score: 77.22%, CV R² Score: 76.80%\n",
      "Test Size: 0.22, Test R² Score: 78.60%, CV R² Score: 75.53%\n",
      "Test Size: 0.23, Test R² Score: 78.82%, CV R² Score: 74.96%\n",
      "Test Size: 0.24, Test R² Score: 77.17%, CV R² Score: 75.24%\n",
      "Test Size: 0.25, Test R² Score: 77.75%, CV R² Score: 74.96%\n",
      "Test Size: 0.26, Test R² Score: 77.68%, CV R² Score: 75.07%\n",
      "Test Size: 0.27, Test R² Score: 76.34%, CV R² Score: 75.78%\n",
      "Test Size: 0.28, Test R² Score: 77.35%, CV R² Score: 74.69%\n",
      "Test Size: 0.29, Test R² Score: 76.74%, CV R² Score: 76.46%\n",
      "Test Size: 0.30, Test R² Score: 75.26%, CV R² Score: 76.95%\n",
      "Test Size: 0.31, Test R² Score: 76.50%, CV R² Score: 76.16%\n",
      "Test Size: 0.32, Test R² Score: 76.48%, CV R² Score: 75.93%\n",
      "Test Size: 0.33, Test R² Score: 75.25%, CV R² Score: 76.28%\n",
      "Test Size: 0.34, Test R² Score: 75.84%, CV R² Score: 75.75%\n",
      "Test Size: 0.35, Test R² Score: 75.90%, CV R² Score: 76.02%\n",
      "Test Size: 0.36, Test R² Score: 75.15%, CV R² Score: 76.97%\n",
      "Test Size: 0.37, Test R² Score: 74.61%, CV R² Score: 77.14%\n",
      "Test Size: 0.38, Test R² Score: 73.06%, CV R² Score: 77.08%\n",
      "Test Size: 0.39, Test R² Score: 70.89%, CV R² Score: 77.59%\n",
      "Test Size: 0.40, Test R² Score: 71.80%, CV R² Score: 77.63%\n",
      "Test Size: 0.41, Test R² Score: 73.36%, CV R² Score: 77.20%\n",
      "Test Size: 0.42, Test R² Score: 73.74%, CV R² Score: 76.99%\n",
      "Test Size: 0.43, Test R² Score: 75.09%, CV R² Score: 77.11%\n",
      "Test Size: 0.44, Test R² Score: 74.82%, CV R² Score: 76.76%\n",
      "Test Size: 0.45, Test R² Score: 75.23%, CV R² Score: 76.97%\n",
      "Test Size: 0.46, Test R² Score: 75.20%, CV R² Score: 76.66%\n",
      "Test Size: 0.47, Test R² Score: 74.49%, CV R² Score: 77.53%\n",
      "Test Size: 0.48, Test R² Score: 74.73%, CV R² Score: 77.76%\n",
      "Test Size: 0.49, Test R² Score: 75.31%, CV R² Score: 76.26%\n",
      "Test Size: 0.50, Test R² Score: 76.25%, CV R² Score: 75.13%\n",
      "Test Size: 0.51, Test R² Score: 75.82%, CV R² Score: 74.20%\n",
      "Test Size: 0.52, Test R² Score: 76.04%, CV R² Score: 73.35%\n",
      "Test Size: 0.53, Test R² Score: 76.03%, CV R² Score: 75.54%\n",
      "Test Size: 0.54, Test R² Score: 76.06%, CV R² Score: 74.91%\n",
      "Test Size: 0.55, Test R² Score: 76.68%, CV R² Score: 73.76%\n",
      "Test Size: 0.56, Test R² Score: 77.04%, CV R² Score: 73.69%\n",
      "Test Size: 0.57, Test R² Score: 76.80%, CV R² Score: 74.85%\n",
      "Test Size: 0.58, Test R² Score: 77.05%, CV R² Score: 74.64%\n",
      "Test Size: 0.59, Test R² Score: 77.37%, CV R² Score: 72.60%\n",
      "Test Size: 0.60, Test R² Score: 77.81%, CV R² Score: 71.67%\n",
      "Test Size: 0.61, Test R² Score: 78.22%, CV R² Score: 71.13%\n",
      "Test Size: 0.62, Test R² Score: 78.21%, CV R² Score: 71.40%\n",
      "Test Size: 0.63, Test R² Score: 78.07%, CV R² Score: 70.13%\n",
      "Test Size: 0.64, Test R² Score: 78.07%, CV R² Score: 69.44%\n",
      "Test Size: 0.65, Test R² Score: 78.10%, CV R² Score: 71.65%\n",
      "Test Size: 0.66, Test R² Score: 76.70%, CV R² Score: 76.76%\n",
      "Test Size: 0.67, Test R² Score: 76.72%, CV R² Score: 76.15%\n",
      "Test Size: 0.68, Test R² Score: 76.19%, CV R² Score: 76.34%\n",
      "Test Size: 0.69, Test R² Score: 76.16%, CV R² Score: 75.90%\n",
      "Test Size: 0.70, Test R² Score: 76.22%, CV R² Score: 74.35%\n",
      "Test Size: 0.71, Test R² Score: 76.31%, CV R² Score: 75.87%\n",
      "Test Size: 0.72, Test R² Score: 76.29%, CV R² Score: 76.50%\n",
      "Test Size: 0.73, Test R² Score: 76.25%, CV R² Score: 76.48%\n",
      "Test Size: 0.74, Test R² Score: 76.42%, CV R² Score: 75.41%\n",
      "Test Size: 0.75, Test R² Score: 76.46%, CV R² Score: 75.83%\n",
      "Test Size: 0.76, Test R² Score: 75.94%, CV R² Score: 57.41%\n",
      "Test Size: 0.77, Test R² Score: 76.11%, CV R² Score: 56.82%\n",
      "Test Size: 0.78, Test R² Score: 76.15%, CV R² Score: 64.10%\n",
      "Test Size: 0.79, Test R² Score: 76.19%, CV R² Score: 59.74%\n",
      "Test Size: 0.80, Test R² Score: 76.48%, CV R² Score: 58.37%\n",
      "Test Size: 0.81, Test R² Score: 76.10%, CV R² Score: 58.02%\n",
      "Test Size: 0.82, Test R² Score: 76.10%, CV R² Score: 54.19%\n",
      "Test Size: 0.83, Test R² Score: 76.50%, CV R² Score: 58.15%\n",
      "Test Size: 0.84, Test R² Score: 77.16%, CV R² Score: 48.20%\n",
      "Test Size: 0.85, Test R² Score: 77.01%, CV R² Score: 47.36%\n",
      "Test Size: 0.86, Test R² Score: 77.73%, CV R² Score: 4.98%\n",
      "Test Size: 0.87, Test R² Score: 77.24%, CV R² Score: -73.63%\n",
      "Test Size: 0.88, Test R² Score: 77.31%, CV R² Score: -104.64%\n",
      "Test Size: 0.89, Test R² Score: 77.42%, CV R² Score: 21.76%\n",
      "\n",
      "Best Test Size: 0.23 with Test R² Score: 78.82%\n"
     ]
    }
   ],
   "source": [
    "import pandas as pd\n",
    "import numpy as np\n",
    "from sklearn.model_selection import train_test_split, cross_val_score\n",
    "from sklearn.linear_model import LinearRegression\n",
    "\n",
    "# Load the dataset\n",
    "dataset = pd.read_csv(r\"C:\\Users\\hegde\\Downloads\\placement.csv\")\n",
    "x = dataset[[\"cgpa\"]]\n",
    "y = dataset[\"package\"]\n",
    "\n",
    "# Define test sizes to evaluate\n",
    "test_sizes = np.arange(0.1, 0.9, 0.01)\n",
    "test_scores = []\n",
    "cv_scores = []\n",
    "\n",
    "# Evaluate each test size\n",
    "for test_size in test_sizes:\n",
    "    # Split the data\n",
    "    x_train, x_test, y_train, y_test = train_test_split(x, y, test_size=test_size, random_state=42)\n",
    "    \n",
    "    # Train the model\n",
    "    lr = LinearRegression()\n",
    "    lr.fit(x_train, y_train)\n",
    "    \n",
    "    # Compute test set R² score\n",
    "    test_score = lr.score(x_test, y_test) * 100\n",
    "    test_scores.append(test_score)\n",
    "    \n",
    "    # Compute 5-fold cross-validation R² score on training set\n",
    "    cv_score = cross_val_score(lr, x_train, y_train, cv=5, scoring='r2').mean() * 100\n",
    "    cv_scores.append(cv_score)\n",
    "    \n",
    "    print(f\"Test Size: {test_size:.2f}, Test R² Score: {test_score:.2f}%, CV R² Score: {cv_score:.2f}%\")\n",
    "\n",
    "# Identify the best test size\n",
    "best_test_size = test_sizes[np.argmax(test_scores)]\n",
    "best_score = max(test_scores)\n",
    "\n",
    "print(f\"\\nBest Test Size: {best_test_size:.2f} with Test R² Score: {best_score:.2f}%\")"
   ]
  },
  {
   "cell_type": "code",
   "execution_count": null,
   "id": "524c9d02-feca-4ff8-a9b0-a7f00849da23",
   "metadata": {},
   "outputs": [
    {
     "name": "stdout",
     "output_type": "stream",
     "text": [
      "Farthest Point Above the Line:\n",
      "CGPA: 5.84, Package: 3.26, Residual: 0.92\n",
      "\n",
      "Farthest Point Below the Line:\n",
      "CGPA: 6.60, Package: 1.94, Residual: -0.83\n"
     ]
    },
    {
     "data": {
      "image/png": "[encoded data removed]",
      "text/plain": [
       "<Figure size 640x480 with 1 Axes>"
      ]
     },
     "metadata": {},
     "output_type": "display_data"
    }
   ],
   "source": [
    "import pandas as pd\n",
    "import numpy as np\n",
    "import seaborn as sns\n",
    "import matplotlib.pyplot as plt\n",
    "from sklearn.linear_model import LinearRegression\n",
    "\n",
    "# Load the dataset\n",
    "dataset = pd.read_csv(r\"C:\\Users\\hegde\\Downloads\\placement.csv\")\n",
    "x = dataset[[\"cgpa\"]]\n",
    "y = dataset[\"package\"]\n",
    "\n",
    "# Fit the linear regression model\n",
    "lr = LinearRegression()\n",
    "lr.fit(x, y)\n",
    "\n",
    "# Predict package values for all cgpa\n",
    "yp = lr.predict(x)\n",
    "\n",
    "# Calculate residuals (actual - predicted)\n",
    "residuals = y - yp\n",
    "\n",
    "# Find the index of the point farthest above (largest positive residual)\n",
    "farthest_above_idx = residuals.idxmax()\n",
    "farthest_above_cgpa = dataset.loc[farthest_above_idx, \"cgpa\"]\n",
    "farthest_above_package = dataset.loc[farthest_above_idx, \"package\"]\n",
    "farthest_above_residual = residuals[farthest_above_idx]\n",
    "\n",
    "# Find the index of the point farthest below (largest negative residual)\n",
    "farthest_below_idx = residuals.idxmin()\n",
    "farthest_below_cgpa = dataset.loc[farthest_below_idx, \"cgpa\"]\n",
    "farthest_below_package = dataset.loc[farthest_below_idx, \"package\"]\n",
    "farthest_below_residual = residuals[farthest_below_idx]\n",
    "\n",
    "# Print the results\n",
    "print(\"Farthest Point Above the Line:\")\n",
    "print(f\"CGPA: {farthest_above_cgpa:.2f}, Package: {farthest_above_package:.2f}, Residual: {farthest_above_residual:.2f}\")\n",
    "print(\"\\nFarthest Point Below the Line:\")\n",
    "print(f\"CGPA: {farthest_below_cgpa:.2f}, Package: {farthest_below_package:.2f}, Residual: {farthest_below_residual:.2f}\")\n",
    "\n",
    "# Plot the scatter plot and regression line\n",
    "sns.scatterplot(x=\"cgpa\", y=\"package\", data=dataset, label=\"Data Points\")\n",
    "\n",
    "# Plot the regression line\n",
    "plt.plot(dataset[\"cgpa\"], yp, color=\"red\", label=\"Regression Line\")\n",
    "\n",
    "# Highlight the farthest points\n",
    "plt.scatter(farthest_above_cgpa, farthest_above_package, color=\"green\", s=100, label=\"Farthest Above\", marker=\"^\")\n",
    "plt.scatter(farthest_below_cgpa, farthest_below_package, color=\"purple\", s=100, label=\"Farthest Below\", marker=\"v\")\n",
    "\n",
    "# Add labels and legend\n",
    "plt.xlabel(\"CGPA\")\n",
    "plt.ylabel(\"Package\")\n",
    "plt.legend()\n",
    "plt.show()"
   ]
  },
  {
   "cell_type": "code",
   "execution_count": null,
   "id": "e9c574fd-aedc-48fa-b5e2-f9eedc77be9f",
   "metadata": {},
   "outputs": [
    {
     "name": "stdout",
     "output_type": "stream",
     "text": [
      "Dataset Info:\n",
      "<class 'pandas.core.frame.DataFrame'>\n",
      "RangeIndex: 200 entries, 0 to 199\n",
      "Data columns (total 2 columns):\n",
      " #   Column   Non-Null Count  Dtype  \n",
      "---  ------   --------------  -----  \n",
      " 0   cgpa     200 non-null    float64\n",
      " 1   package  200 non-null    float64\n",
      "dtypes: float64(2)\n",
      "memory usage: 3.2 KB\n",
      "None\n",
      "\n",
      "Missing Values per Column:\n",
      "cgpa       0\n",
      "package    0\n",
      "dtype: int64\n",
      "\n",
      "Total Rows with Any Missing Values: 0\n",
      "\n",
      "Non-null Counts for Key Columns:\n",
      "cgpa: 200\n",
      "salary: 200\n",
      "\n",
      "x ndim: 2 Shape: (200, 1)\n",
      "y ndim: 1 Shape: (200,)\n",
      "\n",
      "Intercept: -1.0270069374542108\n",
      "Slope (cgpa): [0.57425647]\n"
     ]
    },
    {
     "data": {
      "image/png": "[encoded data removed]",
      "text/plain": [
       "<Figure size 800x600 with 1 Axes>"
      ]
     },
     "metadata": {},
     "output_type": "display_data"
    }
   ],
   "source": [
    "import pandas as pd\n",
    "import matplotlib.pyplot as plt\n",
    "from sklearn.linear_model import LinearRegression\n",
    "from sklearn.model_selection import train_test_split\n",
    "\n",
    "# Load dataset\n",
    "dataset = pd.read_csv(r\"C:\\Users\\hegde\\Downloads\\placement.csv\")\n",
    "# Check for missing data\n",
    "print(\"Dataset Info:\")\n",
    "print(dataset.info())\n",
    "print(\"\\nMissing Values per Column:\")\n",
    "print(dataset.isnull().sum())\n",
    "print(\"\\nTotal Rows with Any Missing Values:\", dataset.isnull().any(axis=1).sum())\n",
    "print(\"\\nNon-null Counts for Key Columns:\")\n",
    "print(\"cgpa:\", dataset[\"cgpa\"].count())\n",
    "print(\"salary:\", dataset[\"package\"].count())\n",
    "\n",
    "# Handle missing data: Drop rows with missing cgpa or salary\n",
    "dataset_clean = dataset.dropna(subset=[\"cgpa\", \"package\"])\n",
    "\n",
    "# Define x and y\n",
    "x = dataset_clean[[\"cgpa\"]]  # 2D DataFrame (required for LinearRegression)\n",
    "y = dataset_clean[\"package\"]  # 1D Series\n",
    "\n",
    "# Check dimensions\n",
    "print(\"\\nx ndim:\", x.ndim, \"Shape:\", x.shape)\n",
    "print(\"y ndim:\", y.ndim, \"Shape:\", y.shape)\n",
    "\n",
    "# Split data\n",
    "x_train, x_test, y_train, y_test = train_test_split(x, y, test_size=0.2, random_state=42)\n",
    "\n",
    "# Fit linear regression\n",
    "lr = LinearRegression()\n",
    "lr.fit(x_train, y_train)\n",
    "\n",
    "# Print intercept and slope\n",
    "print(\"\\nIntercept:\", lr.intercept_)\n",
    "print(\"Slope (cgpa):\", lr.coef_)\n",
    "\n",
    "# Create scatter plot with regression line\n",
    "plt.figure(figsize=(8, 6))\n",
    "plt.scatter(x, y, color=\"blue\", alpha=0.5, label=\"Data Points\")\n",
    "x_line = pd.DataFrame({\"cgpa\": [x[\"cgpa\"].min(), x[\"cgpa\"].max()]})\n",
    "y_line = lr.predict(x_line)\n",
    "plt.plot(x_line, y_line, color=\"red\", linewidth=2, label=\"Regression Line\")\n",
    "plt.title(\"CGPA vs Salary with Linear Regression\")\n",
    "plt.xlabel(\"CGPA\")\n",
    "plt.ylabel(\"Salary\")\n",
    "plt.legend()\n",
    "plt.grid(True)\n",
    "plt.show()"
   ]
  }
 ],
 "metadata": {
  "kernelspec": {
   "display_name": ".venv",
   "language": "python",
   "name": "python3"
  },
  "language_info": {
   "codemirror_mode": {
    "name": "ipython",
    "version": 3
   },
   "file_extension": ".py",
   "mimetype": "text/x-python",
   "name": "python",
   "nbconvert_exporter": "python",
   "pygments_lexer": "ipython3",
   "version": "3.13.0"
  }
 },
 "nbformat": 4,
 "nbformat_minor": 5
}
